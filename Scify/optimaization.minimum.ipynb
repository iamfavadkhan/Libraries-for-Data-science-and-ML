{
 "cells": [
  {
   "cell_type": "code",
   "execution_count": 5,
   "id": "8e3cc03d",
   "metadata": {},
   "outputs": [
    {
     "name": "stdout",
     "output_type": "stream",
     "text": [
      "Minimum at x = -2.00000001888464\n",
      "Minimum value f(x) = 0.0\n",
      "Is minimum value 0.0? True\n"
     ]
    }
   ],
   "source": [
    "# 1. Optimization – Find the minimum of a function\n",
    "# Find the value of x that minimizes the function \n",
    "# 𝑓(𝑥) = 𝑥^2 + 4𝑥 + 4\n",
    "# Hint: Use scipy.optimize.minimize.\n",
    "\n",
    "from scipy.optimize import minimize\n",
    "\n",
    "# Step 1: Define the function\n",
    "def f(x):\n",
    "    return x[0]**2 + 4*x[0] + 4\n",
    "\n",
    "# Step 2: Initial guess\n",
    "x0 = [0]\n",
    "\n",
    "# Step 3: Minimize\n",
    "result = minimize(f, x0, method='BFGS')\n",
    "\n",
    "# Step 4: Show results\n",
    "print(\"Minimum at x =\", result.x[0])\n",
    "print(\"Minimum value f(x) =\", result.fun)\n",
    "\n",
    "# Optional check: Is minimum value 0.0?\n",
    "print(\"Is minimum value 0.0?\", result.fun == 0.0)\n"
   ]
  },
  {
   "cell_type": "code",
   "execution_count": null,
   "id": "b62f4901",
   "metadata": {},
   "outputs": [],
   "source": []
  },
  {
   "cell_type": "code",
   "execution_count": null,
   "id": "5a8a8b9f",
   "metadata": {},
   "outputs": [],
   "source": []
  }
 ],
 "metadata": {
  "kernelspec": {
   "display_name": "Python 3",
   "language": "python",
   "name": "python3"
  },
  "language_info": {
   "codemirror_mode": {
    "name": "ipython",
    "version": 3
   },
   "file_extension": ".py",
   "mimetype": "text/x-python",
   "name": "python",
   "nbconvert_exporter": "python",
   "pygments_lexer": "ipython3",
   "version": "3.13.5"
  }
 },
 "nbformat": 4,
 "nbformat_minor": 5
}
