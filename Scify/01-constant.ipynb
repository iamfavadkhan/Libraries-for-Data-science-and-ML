{
 "cells": [
  {
   "cell_type": "markdown",
   "id": "047a9cfd",
   "metadata": {},
   "source": [
    "##Constant in Scipy"
   ]
  },
  {
   "cell_type": "code",
   "execution_count": 2,
   "id": "46c6c282",
   "metadata": {},
   "outputs": [
    {
     "name": "stdout",
     "output_type": "stream",
     "text": [
      "1.16.0\n"
     ]
    }
   ],
   "source": [
    "import scipy as spy\n",
    "print(spy.__version__)"
   ]
  },
  {
   "cell_type": "markdown",
   "id": "4fcb1372",
   "metadata": {},
   "source": [
    "All mehtods of scipy"
   ]
  },
  {
   "cell_type": "code",
   "execution_count": 3,
   "id": "3c94d40c",
   "metadata": {},
   "outputs": [
    {
     "data": {
      "text/plain": [
       "['LowLevelCallable',\n",
       " '__version__',\n",
       " 'cluster',\n",
       " 'constants',\n",
       " 'datasets',\n",
       " 'differentiate',\n",
       " 'fft',\n",
       " 'fftpack',\n",
       " 'integrate',\n",
       " 'interpolate',\n",
       " 'io',\n",
       " 'linalg',\n",
       " 'ndimage',\n",
       " 'odr',\n",
       " 'optimize',\n",
       " 'show_config',\n",
       " 'signal',\n",
       " 'sparse',\n",
       " 'spatial',\n",
       " 'special',\n",
       " 'stats',\n",
       " 'test']"
      ]
     },
     "execution_count": 3,
     "metadata": {},
     "output_type": "execute_result"
    }
   ],
   "source": [
    "dir(spy)"
   ]
  },
  {
   "cell_type": "markdown",
   "id": "4a3e5aa4",
   "metadata": {},
   "source": [
    "##Metric Prefixes"
   ]
  },
  {
   "cell_type": "code",
   "execution_count": 4,
   "id": "6f224d96",
   "metadata": {},
   "outputs": [
    {
     "data": {
      "text/html": [
       "<div>\n",
       "<style scoped>\n",
       "    .dataframe tbody tr th:only-of-type {\n",
       "        vertical-align: middle;\n",
       "    }\n",
       "\n",
       "    .dataframe tbody tr th {\n",
       "        vertical-align: top;\n",
       "    }\n",
       "\n",
       "    .dataframe thead th {\n",
       "        text-align: right;\n",
       "    }\n",
       "</style>\n",
       "<table border=\"1\" class=\"dataframe\">\n",
       "  <thead>\n",
       "    <tr style=\"text-align: right;\">\n",
       "      <th></th>\n",
       "      <th>Prefix</th>\n",
       "      <th>Symbol</th>\n",
       "      <th>Scientific Notation</th>\n",
       "    </tr>\n",
       "  </thead>\n",
       "  <tbody>\n",
       "    <tr>\n",
       "      <th>0</th>\n",
       "      <td>yotta</td>\n",
       "      <td>Y</td>\n",
       "      <td>1.000000e+24</td>\n",
       "    </tr>\n",
       "    <tr>\n",
       "      <th>1</th>\n",
       "      <td>zetta</td>\n",
       "      <td>Z</td>\n",
       "      <td>1.000000e+21</td>\n",
       "    </tr>\n",
       "    <tr>\n",
       "      <th>2</th>\n",
       "      <td>exa</td>\n",
       "      <td>E</td>\n",
       "      <td>1.000000e+18</td>\n",
       "    </tr>\n",
       "    <tr>\n",
       "      <th>3</th>\n",
       "      <td>peta</td>\n",
       "      <td>P</td>\n",
       "      <td>1.000000e+15</td>\n",
       "    </tr>\n",
       "    <tr>\n",
       "      <th>4</th>\n",
       "      <td>tera</td>\n",
       "      <td>T</td>\n",
       "      <td>1.000000e+12</td>\n",
       "    </tr>\n",
       "    <tr>\n",
       "      <th>5</th>\n",
       "      <td>giga</td>\n",
       "      <td>G</td>\n",
       "      <td>1.000000e+09</td>\n",
       "    </tr>\n",
       "    <tr>\n",
       "      <th>6</th>\n",
       "      <td>mega</td>\n",
       "      <td>M</td>\n",
       "      <td>1.000000e+06</td>\n",
       "    </tr>\n",
       "    <tr>\n",
       "      <th>7</th>\n",
       "      <td>kilo</td>\n",
       "      <td>k</td>\n",
       "      <td>1.000000e+03</td>\n",
       "    </tr>\n",
       "    <tr>\n",
       "      <th>8</th>\n",
       "      <td>hecto</td>\n",
       "      <td>h</td>\n",
       "      <td>1.000000e+02</td>\n",
       "    </tr>\n",
       "    <tr>\n",
       "      <th>9</th>\n",
       "      <td>deca</td>\n",
       "      <td>da</td>\n",
       "      <td>1.000000e+01</td>\n",
       "    </tr>\n",
       "    <tr>\n",
       "      <th>10</th>\n",
       "      <td></td>\n",
       "      <td></td>\n",
       "      <td>1.000000e+00</td>\n",
       "    </tr>\n",
       "    <tr>\n",
       "      <th>11</th>\n",
       "      <td>deci</td>\n",
       "      <td>d</td>\n",
       "      <td>1.000000e-01</td>\n",
       "    </tr>\n",
       "    <tr>\n",
       "      <th>12</th>\n",
       "      <td>centi</td>\n",
       "      <td>c</td>\n",
       "      <td>1.000000e-02</td>\n",
       "    </tr>\n",
       "    <tr>\n",
       "      <th>13</th>\n",
       "      <td>milli</td>\n",
       "      <td>m</td>\n",
       "      <td>1.000000e-03</td>\n",
       "    </tr>\n",
       "    <tr>\n",
       "      <th>14</th>\n",
       "      <td>micro</td>\n",
       "      <td>µ</td>\n",
       "      <td>1.000000e-06</td>\n",
       "    </tr>\n",
       "    <tr>\n",
       "      <th>15</th>\n",
       "      <td>nano</td>\n",
       "      <td>n</td>\n",
       "      <td>1.000000e-09</td>\n",
       "    </tr>\n",
       "    <tr>\n",
       "      <th>16</th>\n",
       "      <td>pico</td>\n",
       "      <td>p</td>\n",
       "      <td>1.000000e-12</td>\n",
       "    </tr>\n",
       "    <tr>\n",
       "      <th>17</th>\n",
       "      <td>femto</td>\n",
       "      <td>f</td>\n",
       "      <td>1.000000e-15</td>\n",
       "    </tr>\n",
       "    <tr>\n",
       "      <th>18</th>\n",
       "      <td>atto</td>\n",
       "      <td>a</td>\n",
       "      <td>1.000000e-18</td>\n",
       "    </tr>\n",
       "    <tr>\n",
       "      <th>19</th>\n",
       "      <td>zepto</td>\n",
       "      <td>z</td>\n",
       "      <td>1.000000e-21</td>\n",
       "    </tr>\n",
       "    <tr>\n",
       "      <th>20</th>\n",
       "      <td>yocto</td>\n",
       "      <td>y</td>\n",
       "      <td>1.000000e-24</td>\n",
       "    </tr>\n",
       "  </tbody>\n",
       "</table>\n",
       "</div>"
      ],
      "text/plain": [
       "   Prefix Symbol  Scientific Notation\n",
       "0   yotta      Y         1.000000e+24\n",
       "1   zetta      Z         1.000000e+21\n",
       "2     exa      E         1.000000e+18\n",
       "3    peta      P         1.000000e+15\n",
       "4    tera      T         1.000000e+12\n",
       "5    giga      G         1.000000e+09\n",
       "6    mega      M         1.000000e+06\n",
       "7    kilo      k         1.000000e+03\n",
       "8   hecto      h         1.000000e+02\n",
       "9    deca     da         1.000000e+01\n",
       "10                       1.000000e+00\n",
       "11   deci      d         1.000000e-01\n",
       "12  centi      c         1.000000e-02\n",
       "13  milli      m         1.000000e-03\n",
       "14  micro      µ         1.000000e-06\n",
       "15   nano      n         1.000000e-09\n",
       "16   pico      p         1.000000e-12\n",
       "17  femto      f         1.000000e-15\n",
       "18   atto      a         1.000000e-18\n",
       "19  zepto      z         1.000000e-21\n",
       "20  yocto      y         1.000000e-24"
      ]
     },
     "execution_count": 4,
     "metadata": {},
     "output_type": "execute_result"
    }
   ],
   "source": [
    "import pandas as pd\n",
    "\n",
    "# Define SI prefixes from 1e24 to 1e-24\n",
    "data = [\n",
    "    [\"yotta\", \"Y\", 1e24],\n",
    "    [\"zetta\", \"Z\", 1e21],\n",
    "    [\"exa\",   \"E\", 1e18],\n",
    "    [\"peta\",  \"P\", 1e15],\n",
    "    [\"tera\",  \"T\", 1e12],\n",
    "    [\"giga\",  \"G\", 1e9],\n",
    "    [\"mega\",  \"M\", 1e6],\n",
    "    [\"kilo\",  \"k\", 1e3],\n",
    "    [\"hecto\", \"h\", 1e2],\n",
    "    [\"deca\",  \"da\",1e1],\n",
    "    [\"\",      \"\",  1e0],  # base unit\n",
    "    [\"deci\",  \"d\", 1e-1],\n",
    "    [\"centi\", \"c\", 1e-2],\n",
    "    [\"milli\", \"m\", 1e-3],\n",
    "    [\"micro\", \"µ\", 1e-6],\n",
    "    [\"nano\",  \"n\", 1e-9],\n",
    "    [\"pico\",  \"p\", 1e-12],\n",
    "    [\"femto\", \"f\", 1e-15],\n",
    "    [\"atto\",  \"a\", 1e-18],\n",
    "    [\"zepto\", \"z\", 1e-21],\n",
    "    [\"yocto\", \"y\", 1e-24],\n",
    "]\n",
    "\n",
    "# Create DataFrame\n",
    "df_prefixes = pd.DataFrame(data, columns=[\"Prefix\", \"Symbol\", \"Scientific Notation\"])\n",
    "\n",
    "# Display the table\n",
    "df_prefixes\n"
   ]
  },
  {
   "cell_type": "code",
   "execution_count": 5,
   "id": "f49db79d",
   "metadata": {},
   "outputs": [
    {
     "name": "stdout",
     "output_type": "stream",
     "text": [
      "1e+24\n",
      "1e+21\n",
      "1e+18\n",
      "1000000000000000.0\n",
      "1000000000.0\n",
      "1000000.0\n",
      "1000.0\n",
      "100.0\n",
      "0.1\n",
      "0.01\n",
      "0.001\n",
      "1e-06\n",
      "1e-09\n",
      "1e-12\n",
      "1e-15\n",
      "1e-18\n",
      "1e-21\n",
      "1e-24\n",
      "1e+24\n",
      "1e+24\n"
     ]
    }
   ],
   "source": [
    "from scipy import constants as c\n",
    "print(c.yotta)\n",
    "print(c.zetta)\n",
    "print(c.exa)\n",
    "print(c.peta)\n",
    "print(c.giga)\n",
    "print(c.mega)\n",
    "print(c.kilo)\n",
    "print(c.hecto)\n",
    "print(c.deci)\n",
    "print(c.centi)\n",
    "print(c.milli)\n",
    "print(c.micro)\n",
    "print(c.nano)\n",
    "print(c.pico)\n",
    "print(c.femto)\n",
    "print(c.atto)\n",
    "print(c.zepto)\n",
    "print(c.yocto)\n",
    "print(c.yotta)\n",
    "print(c.yotta)"
   ]
  },
  {
   "cell_type": "markdown",
   "id": "b203ee74",
   "metadata": {},
   "source": [
    "##Binary Prefixes"
   ]
  },
  {
   "cell_type": "markdown",
   "id": "e516f389",
   "metadata": {},
   "source": [
    "##Binary Prefixes"
   ]
  },
  {
   "cell_type": "code",
   "execution_count": 6,
   "id": "9628d9cb",
   "metadata": {},
   "outputs": [
    {
     "name": "stdout",
     "output_type": "stream",
     "text": [
      "1024\n",
      "1048576\n",
      "1073741824\n",
      "1099511627776\n",
      "1125899906842624\n",
      "1152921504606846976\n",
      "1180591620717411303424\n",
      "1208925819614629174706176\n"
     ]
    }
   ],
   "source": [
    "print(c.kibi)\n",
    "print(c.mebi)\n",
    "print(c.gibi)\n",
    "print(c.tebi)\n",
    "print(c.pebi)\n",
    "print(c.exbi)\n",
    "print(c.zebi)\n",
    "print(c.yobi)"
   ]
  },
  {
   "cell_type": "markdown",
   "id": "75bb7fb8",
   "metadata": {},
   "source": [
    "##Mass"
   ]
  },
  {
   "cell_type": "code",
   "execution_count": 8,
   "id": "0e86bc54",
   "metadata": {},
   "outputs": [],
   "source": [
    "from scipy.constants import m_e  # electron mass\n"
   ]
  },
  {
   "cell_type": "markdown",
   "id": "d6a37fff",
   "metadata": {},
   "source": [
    "##Angles"
   ]
  },
  {
   "cell_type": "markdown",
   "id": "e120c076",
   "metadata": {},
   "source": []
  },
  {
   "cell_type": "markdown",
   "id": "a98db630",
   "metadata": {},
   "source": [
    "##Time"
   ]
  },
  {
   "cell_type": "markdown",
   "id": "8013d0d5",
   "metadata": {},
   "source": []
  },
  {
   "cell_type": "markdown",
   "id": "70028613",
   "metadata": {},
   "source": [
    "##Length"
   ]
  },
  {
   "cell_type": "markdown",
   "id": "64b94b56",
   "metadata": {},
   "source": []
  },
  {
   "cell_type": "markdown",
   "id": "288b37ec",
   "metadata": {},
   "source": [
    "##Pressure Pascals"
   ]
  },
  {
   "cell_type": "code",
   "execution_count": null,
   "id": "bb00cebf",
   "metadata": {},
   "outputs": [],
   "source": []
  },
  {
   "cell_type": "markdown",
   "id": "0ba5b1fd",
   "metadata": {},
   "source": [
    "##Volume"
   ]
  },
  {
   "cell_type": "markdown",
   "id": "db422058",
   "metadata": {},
   "source": []
  },
  {
   "cell_type": "markdown",
   "id": "e07eee9c",
   "metadata": {},
   "source": [
    "###Speed"
   ]
  },
  {
   "cell_type": "markdown",
   "id": "378fa352",
   "metadata": {},
   "source": []
  },
  {
   "cell_type": "markdown",
   "id": "7506e4f5",
   "metadata": {},
   "source": [
    "##Temperature"
   ]
  },
  {
   "cell_type": "markdown",
   "id": "7be1d13c",
   "metadata": {},
   "source": []
  },
  {
   "cell_type": "markdown",
   "id": "36a8dffa",
   "metadata": {},
   "source": [
    "##Energy"
   ]
  },
  {
   "cell_type": "markdown",
   "id": "169cc8dd",
   "metadata": {},
   "source": []
  },
  {
   "cell_type": "markdown",
   "id": "877f8dd2",
   "metadata": {},
   "source": [
    "##Power & Force"
   ]
  },
  {
   "cell_type": "markdown",
   "id": "00b2c62c",
   "metadata": {},
   "source": []
  }
 ],
 "metadata": {
  "kernelspec": {
   "display_name": "Python 3",
   "language": "python",
   "name": "python3"
  },
  "language_info": {
   "codemirror_mode": {
    "name": "ipython",
    "version": 3
   },
   "file_extension": ".py",
   "mimetype": "text/x-python",
   "name": "python",
   "nbconvert_exporter": "python",
   "pygments_lexer": "ipython3",
   "version": "3.13.5"
  }
 },
 "nbformat": 4,
 "nbformat_minor": 5
}
