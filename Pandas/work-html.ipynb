{
 "cells": [
  {
   "cell_type": "code",
   "execution_count": 14,
   "id": "56bbae45",
   "metadata": {},
   "outputs": [
    {
     "data": {
      "text/plain": [
       "list"
      ]
     },
     "execution_count": 14,
     "metadata": {},
     "output_type": "execute_result"
    }
   ],
   "source": [
    "import pandas as pd\n",
    "html = pd.read_html(\"https://en.wikipedia.org/wiki/Wikipedia:About\")\n",
    "type(html)"
   ]
  },
  {
   "cell_type": "code",
   "execution_count": 15,
   "id": "37a7c996",
   "metadata": {},
   "outputs": [
    {
     "data": {
      "text/html": [
       "<div>\n",
       "<style scoped>\n",
       "    .dataframe tbody tr th:only-of-type {\n",
       "        vertical-align: middle;\n",
       "    }\n",
       "\n",
       "    .dataframe tbody tr th {\n",
       "        vertical-align: top;\n",
       "    }\n",
       "\n",
       "    .dataframe thead th {\n",
       "        text-align: right;\n",
       "    }\n",
       "</style>\n",
       "<table border=\"1\" class=\"dataframe\">\n",
       "  <thead>\n",
       "    <tr style=\"text-align: right;\">\n",
       "      <th></th>\n",
       "      <th>vteBasic information on Wikipedia - (Search)</th>\n",
       "      <th>vteBasic information on Wikipedia - (Search).1</th>\n",
       "    </tr>\n",
       "  </thead>\n",
       "  <tbody>\n",
       "    <tr>\n",
       "      <th>0</th>\n",
       "      <td>Help directory menu Teahouse (interactive help...</td>\n",
       "      <td>Help directory menu Teahouse (interactive help...</td>\n",
       "    </tr>\n",
       "    <tr>\n",
       "      <th>1</th>\n",
       "      <td>About Wikipedia</td>\n",
       "      <td>Readers' index to Wikipedia Statistics Adminis...</td>\n",
       "    </tr>\n",
       "    <tr>\n",
       "      <th>2</th>\n",
       "      <td>Readers' FAQ</td>\n",
       "      <td>Student help Navigation Searching Viewing medi...</td>\n",
       "    </tr>\n",
       "    <tr>\n",
       "      <th>3</th>\n",
       "      <td>Introductions to contributing</td>\n",
       "      <td>Main introduction List of tutorials and introd...</td>\n",
       "    </tr>\n",
       "    <tr>\n",
       "      <th>4</th>\n",
       "      <td>Pillars, policies  and guidelines</td>\n",
       "      <td>Five pillars Manual of Style Simplified Etique...</td>\n",
       "    </tr>\n",
       "    <tr>\n",
       "      <th>5</th>\n",
       "      <td>Getting help</td>\n",
       "      <td>Help menu Help desk Reference desk Category Re...</td>\n",
       "    </tr>\n",
       "    <tr>\n",
       "      <th>6</th>\n",
       "      <td>Wikipedia community</td>\n",
       "      <td>Departments Meetups WikiProjects Overview FAQ ...</td>\n",
       "    </tr>\n",
       "    <tr>\n",
       "      <th>7</th>\n",
       "      <td>Sourcing and referencing</td>\n",
       "      <td>Research Wikipedia Library Request Resources F...</td>\n",
       "    </tr>\n",
       "    <tr>\n",
       "      <th>8</th>\n",
       "      <td>Research</td>\n",
       "      <td>Wikipedia Library Request Resources Free resou...</td>\n",
       "    </tr>\n",
       "    <tr>\n",
       "      <th>9</th>\n",
       "      <td>Guidelines</td>\n",
       "      <td>Finding sources Combining sources Referencing ...</td>\n",
       "    </tr>\n",
       "    <tr>\n",
       "      <th>10</th>\n",
       "      <td>How-to guides</td>\n",
       "      <td>Category Tools Infoboxes Writing articles Deve...</td>\n",
       "    </tr>\n",
       "    <tr>\n",
       "      <th>11</th>\n",
       "      <td>Wiki markup</td>\n",
       "      <td>Wiki markup Cheatsheet Columns HTML Lists Magi...</td>\n",
       "    </tr>\n",
       "    <tr>\n",
       "      <th>12</th>\n",
       "      <td>Directories and glossaries</td>\n",
       "      <td>Category Abbreviations Contents Edit summaries...</td>\n",
       "    </tr>\n",
       "  </tbody>\n",
       "</table>\n",
       "</div>"
      ],
      "text/plain": [
       "         vteBasic information on Wikipedia - (Search)  \\\n",
       "0   Help directory menu Teahouse (interactive help...   \n",
       "1                                     About Wikipedia   \n",
       "2                                        Readers' FAQ   \n",
       "3                       Introductions to contributing   \n",
       "4                   Pillars, policies  and guidelines   \n",
       "5                                        Getting help   \n",
       "6                                 Wikipedia community   \n",
       "7                            Sourcing and referencing   \n",
       "8                                            Research   \n",
       "9                                          Guidelines   \n",
       "10                                      How-to guides   \n",
       "11                                        Wiki markup   \n",
       "12                         Directories and glossaries   \n",
       "\n",
       "       vteBasic information on Wikipedia - (Search).1  \n",
       "0   Help directory menu Teahouse (interactive help...  \n",
       "1   Readers' index to Wikipedia Statistics Adminis...  \n",
       "2   Student help Navigation Searching Viewing medi...  \n",
       "3   Main introduction List of tutorials and introd...  \n",
       "4   Five pillars Manual of Style Simplified Etique...  \n",
       "5   Help menu Help desk Reference desk Category Re...  \n",
       "6   Departments Meetups WikiProjects Overview FAQ ...  \n",
       "7   Research Wikipedia Library Request Resources F...  \n",
       "8   Wikipedia Library Request Resources Free resou...  \n",
       "9   Finding sources Combining sources Referencing ...  \n",
       "10  Category Tools Infoboxes Writing articles Deve...  \n",
       "11  Wiki markup Cheatsheet Columns HTML Lists Magi...  \n",
       "12  Category Abbreviations Contents Edit summaries...  "
      ]
     },
     "execution_count": 15,
     "metadata": {},
     "output_type": "execute_result"
    }
   ],
   "source": [
    "html[0]"
   ]
  },
  {
   "cell_type": "code",
   "execution_count": 16,
   "id": "2505120e",
   "metadata": {},
   "outputs": [
    {
     "data": {
      "text/html": [
       "<div>\n",
       "<style scoped>\n",
       "    .dataframe tbody tr th:only-of-type {\n",
       "        vertical-align: middle;\n",
       "    }\n",
       "\n",
       "    .dataframe tbody tr th {\n",
       "        vertical-align: top;\n",
       "    }\n",
       "\n",
       "    .dataframe thead th {\n",
       "        text-align: right;\n",
       "    }\n",
       "</style>\n",
       "<table border=\"1\" class=\"dataframe\">\n",
       "  <thead>\n",
       "    <tr style=\"text-align: right;\">\n",
       "      <th></th>\n",
       "      <th>0</th>\n",
       "      <th>1</th>\n",
       "    </tr>\n",
       "  </thead>\n",
       "  <tbody>\n",
       "    <tr>\n",
       "      <th>0</th>\n",
       "      <td>Research</td>\n",
       "      <td>Wikipedia Library Request Resources Free resou...</td>\n",
       "    </tr>\n",
       "    <tr>\n",
       "      <th>1</th>\n",
       "      <td>Guidelines</td>\n",
       "      <td>Finding sources Combining sources Referencing ...</td>\n",
       "    </tr>\n",
       "  </tbody>\n",
       "</table>\n",
       "</div>"
      ],
      "text/plain": [
       "            0                                                  1\n",
       "0    Research  Wikipedia Library Request Resources Free resou...\n",
       "1  Guidelines  Finding sources Combining sources Referencing ..."
      ]
     },
     "execution_count": 16,
     "metadata": {},
     "output_type": "execute_result"
    }
   ],
   "source": [
    "html[1]"
   ]
  },
  {
   "cell_type": "code",
   "execution_count": 17,
   "id": "f34c5825",
   "metadata": {},
   "outputs": [],
   "source": [
    "html[0].to_html(\"demo0\" , index=False)"
   ]
  },
  {
   "cell_type": "code",
   "execution_count": 18,
   "id": "691ea5b0",
   "metadata": {},
   "outputs": [
    {
     "name": "stdout",
     "output_type": "stream",
     "text": [
      "c:\\Users\\PMLS\\Desktop\\Ai\\Python Libraries\\Pandas\n"
     ]
    }
   ],
   "source": [
    "import os\n",
    "print(os.getcwd())"
   ]
  }
 ],
 "metadata": {
  "kernelspec": {
   "display_name": "Python 3",
   "language": "python",
   "name": "python3"
  },
  "language_info": {
   "codemirror_mode": {
    "name": "ipython",
    "version": 3
   },
   "file_extension": ".py",
   "mimetype": "text/x-python",
   "name": "python",
   "nbconvert_exporter": "python",
   "pygments_lexer": "ipython3",
   "version": "3.13.6"
  }
 },
 "nbformat": 4,
 "nbformat_minor": 5
}
