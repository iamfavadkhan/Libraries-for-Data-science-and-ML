{
 "cells": [
  {
   "cell_type": "code",
   "execution_count": 25,
   "id": "d859d31a",
   "metadata": {},
   "outputs": [
    {
     "name": "stdout",
     "output_type": "stream",
     "text": [
      "   name   age        department        skills\n",
      "0  Fawad   20  computer science           NaN\n",
      "1  Hamza   22    cyber security           NaN\n",
      "2    Ali   30                AI  {ds, ml, ai}\n"
     ]
    }
   ],
   "source": [
    "# Task 1: Read JSON from a String and Convert to DataFrame\n",
    "# Create a JSON string containing employee records (keys: name, age, department).\n",
    "# Use pd.read_json() with StringIO to load it into a DataFrame.\n",
    "# Filter employees whose age is greater than 30.\n",
    "\n",
    "import pandas as pd\n",
    "# from io import StringIO \n",
    "\n",
    "data_json = [{'name ' : 'Fawad' , 'age' : 20 , 'department' : 'computer science'},{'name ' : 'Hamza' , 'age' : 22 , 'department' : 'cyber security'},\n",
    "             {'name ' : 'Ali' , 'age' : 30 , 'department' : 'AI' , 'skills' : {'ai' , 'ds' ,'ml'}}]\n",
    "\n",
    "df = pd.DataFrame(data_json)\n",
    "print(df)"
   ]
  },
  {
   "cell_type": "code",
   "execution_count": 27,
   "id": "b7cd7169",
   "metadata": {},
   "outputs": [
    {
     "data": {
      "text/html": [
       "<div>\n",
       "<style scoped>\n",
       "    .dataframe tbody tr th:only-of-type {\n",
       "        vertical-align: middle;\n",
       "    }\n",
       "\n",
       "    .dataframe tbody tr th {\n",
       "        vertical-align: top;\n",
       "    }\n",
       "\n",
       "    .dataframe thead th {\n",
       "        text-align: right;\n",
       "    }\n",
       "</style>\n",
       "<table border=\"1\" class=\"dataframe\">\n",
       "  <thead>\n",
       "    <tr style=\"text-align: right;\">\n",
       "      <th></th>\n",
       "      <th>name</th>\n",
       "      <th>age</th>\n",
       "      <th>department</th>\n",
       "      <th>skills</th>\n",
       "    </tr>\n",
       "  </thead>\n",
       "  <tbody>\n",
       "    <tr>\n",
       "      <th>0</th>\n",
       "      <td>Fawad</td>\n",
       "      <td>20</td>\n",
       "      <td>computer science</td>\n",
       "      <td>0</td>\n",
       "    </tr>\n",
       "    <tr>\n",
       "      <th>1</th>\n",
       "      <td>Hamza</td>\n",
       "      <td>22</td>\n",
       "      <td>cyber security</td>\n",
       "      <td>0</td>\n",
       "    </tr>\n",
       "    <tr>\n",
       "      <th>2</th>\n",
       "      <td>Ali</td>\n",
       "      <td>30</td>\n",
       "      <td>AI</td>\n",
       "      <td>{ds, ml, ai}</td>\n",
       "    </tr>\n",
       "  </tbody>\n",
       "</table>\n",
       "</div>"
      ],
      "text/plain": [
       "   name   age        department        skills\n",
       "0  Fawad   20  computer science             0\n",
       "1  Hamza   22    cyber security             0\n",
       "2    Ali   30                AI  {ds, ml, ai}"
      ]
     },
     "execution_count": 27,
     "metadata": {},
     "output_type": "execute_result"
    }
   ],
   "source": [
    "df.fillna('0')"
   ]
  },
  {
   "cell_type": "code",
   "execution_count": null,
   "id": "40689dd3",
   "metadata": {},
   "outputs": [],
   "source": []
  }
 ],
 "metadata": {
  "kernelspec": {
   "display_name": "Python 3",
   "language": "python",
   "name": "python3"
  },
  "language_info": {
   "codemirror_mode": {
    "name": "ipython",
    "version": 3
   },
   "file_extension": ".py",
   "mimetype": "text/x-python",
   "name": "python",
   "nbconvert_exporter": "python",
   "pygments_lexer": "ipython3",
   "version": "3.13.6"
  }
 },
 "nbformat": 4,
 "nbformat_minor": 5
}
