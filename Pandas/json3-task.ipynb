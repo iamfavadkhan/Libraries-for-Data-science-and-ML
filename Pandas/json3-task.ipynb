{
 "cells": [
  {
   "cell_type": "code",
   "execution_count": 17,
   "id": "8337c5fd",
   "metadata": {},
   "outputs": [
    {
     "name": "stdout",
     "output_type": "stream",
     "text": [
      "   id   name                skills  salary  experience  \\\n",
      "0   1  Fawad  [Python, Pandas, ML]   50000           1   \n",
      "\n",
      "                                            projects  personal.age  \\\n",
      "0  [{'title': 'AI Chatbot', 'duration': '3 months...            20   \n",
      "\n",
      "  personal.city department.name department.grade  joining.year joining.status  \\\n",
      "0        Lahore              CS                A          2024         Active   \n",
      "\n",
      "       contact.email contact.phone  \n",
      "0  fawad@example.com   111-222-333  \n",
      "          title  duration id   name\n",
      "0    AI Chatbot  3 months  1  Fawad\n",
      "1  Data Cleaner   1 month  1  Fawad\n",
      "   id   name  skills\n",
      "0   1  Fawad  Python\n",
      "0   1  Fawad  Pandas\n",
      "0   1  Fawad      ML\n"
     ]
    }
   ],
   "source": [
    "import pandas as pd\n",
    "from pandas import json_normalize\n",
    "data_json = [\n",
    "    {\n",
    "        \"id\": 1,\n",
    "        \"name\": \"Fawad\",\n",
    "        \"personal\": {\"age\": 20, \"city\": \"Lahore\"},\n",
    "        \"department\": {\"name\": \"CS\", \"grade\": \"A\"},\n",
    "        \"skills\": [\"Python\", \"Pandas\", \"ML\"],\n",
    "        \"salary\": 50000,\n",
    "        \"experience\": 1,\n",
    "        \"joining\": {\"year\": 2024, \"status\": \"Active\"},\n",
    "        \"projects\": [{\"title\": \"AI Chatbot\", \"duration\": \"3 months\"}, {\"title\": \"Data Cleaner\", \"duration\": \"1 month\"}],\n",
    "        \"contact\": {\"email\": \"fawad@example.com\", \"phone\": \"111-222-333\"}\n",
    "    }]\n",
    "\n",
    "df_flat = pd.json_normalize(data_json)\n",
    "projects_flat = json_normalize(\n",
    "    data_json,\n",
    "    record_path='projects',\n",
    "    meta=['id','name'],\n",
    "    sep='.'\n",
    ")\n",
    "skills_flat = df_flat.explode('skills')[['id','name','skills']]\n",
    "print(df_flat)\n",
    "print(projects_flat)\n",
    "print(skills_flat)"
   ]
  },
  {
   "cell_type": "code",
   "execution_count": null,
   "id": "94714580",
   "metadata": {},
   "outputs": [],
   "source": []
  }
 ],
 "metadata": {
  "kernelspec": {
   "display_name": "Python 3",
   "language": "python",
   "name": "python3"
  },
  "language_info": {
   "codemirror_mode": {
    "name": "ipython",
    "version": 3
   },
   "file_extension": ".py",
   "mimetype": "text/x-python",
   "name": "python",
   "nbconvert_exporter": "python",
   "pygments_lexer": "ipython3",
   "version": "3.13.6"
  }
 },
 "nbformat": 4,
 "nbformat_minor": 5
}
