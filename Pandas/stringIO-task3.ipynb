{
 "cells": [
  {
   "cell_type": "code",
   "execution_count": 17,
   "id": "67e59b5c",
   "metadata": {},
   "outputs": [
    {
     "data": {
      "text/html": [
       "<div>\n",
       "<style scoped>\n",
       "    .dataframe tbody tr th:only-of-type {\n",
       "        vertical-align: middle;\n",
       "    }\n",
       "\n",
       "    .dataframe tbody tr th {\n",
       "        vertical-align: top;\n",
       "    }\n",
       "\n",
       "    .dataframe thead th {\n",
       "        text-align: right;\n",
       "    }\n",
       "</style>\n",
       "<table border=\"1\" class=\"dataframe\">\n",
       "  <thead>\n",
       "    <tr style=\"text-align: right;\">\n",
       "      <th></th>\n",
       "      <th>Name</th>\n",
       "      <th>Age</th>\n",
       "      <th>Address</th>\n",
       "      <th>CGPA</th>\n",
       "      <th>Contact</th>\n",
       "    </tr>\n",
       "  </thead>\n",
       "  <tbody>\n",
       "    <tr>\n",
       "      <th>0</th>\n",
       "      <td>Fawad</td>\n",
       "      <td>19</td>\n",
       "      <td>Mardan</td>\n",
       "      <td>3.05</td>\n",
       "      <td>3445755845</td>\n",
       "    </tr>\n",
       "    <tr>\n",
       "      <th>1</th>\n",
       "      <td>Hamza</td>\n",
       "      <td>20</td>\n",
       "      <td>Bajour</td>\n",
       "      <td>3.08</td>\n",
       "      <td>3229596970</td>\n",
       "    </tr>\n",
       "    <tr>\n",
       "      <th>2</th>\n",
       "      <td>Misbah</td>\n",
       "      <td>22</td>\n",
       "      <td>Swat</td>\n",
       "      <td>3.00</td>\n",
       "      <td>3322345894</td>\n",
       "    </tr>\n",
       "    <tr>\n",
       "      <th>3</th>\n",
       "      <td>Abid</td>\n",
       "      <td>23</td>\n",
       "      <td>Kurram</td>\n",
       "      <td>3.50</td>\n",
       "      <td>3215566789</td>\n",
       "    </tr>\n",
       "  </tbody>\n",
       "</table>\n",
       "</div>"
      ],
      "text/plain": [
       "               Name  Age Address  CGPA     Contact\n",
       "0             Fawad   19  Mardan  3.05  3445755845\n",
       "1             Hamza   20  Bajour  3.08  3229596970\n",
       "2            Misbah   22    Swat  3.00  3322345894\n",
       "3              Abid   23  Kurram  3.50  3215566789"
      ]
     },
     "execution_count": 17,
     "metadata": {},
     "output_type": "execute_result"
    }
   ],
   "source": [
    "# Task 3: Use .seek() to Re-read Data\n",
    "# Create a StringIO object containing \n",
    "# CSV data, read it into pandas, then \n",
    "# reset the cursor with .seek(0) and \n",
    "# read it again into another DataFrame.\n",
    "# Verify both DataFrames are identical.\n",
    "\n",
    "import pandas as pd\n",
    "from io import StringIO\n",
    "\n",
    "data = \"\"\"Name,Age,Address,CGPA,Contact\\n\n",
    "          Fawad,19,Mardan,3.05,3445755845\\n\n",
    "          Hamza,20,Bajour,3.08,3229596970\\n\n",
    "          Misbah,22,Swat,3.00,3322345894\\n\n",
    "          Abid,23,Kurram,3.50,3215566789\\n\"\"\"\n",
    "\n",
    "csv_data = StringIO(data)\n",
    "csv_data\n",
    "df1 = pd.read_csv(csv_data)\n",
    "df1"
   ]
  },
  {
   "cell_type": "code",
   "execution_count": 18,
   "id": "0281f36e",
   "metadata": {},
   "outputs": [
    {
     "data": {
      "text/plain": [
       "0"
      ]
     },
     "execution_count": 18,
     "metadata": {},
     "output_type": "execute_result"
    }
   ],
   "source": [
    "csv_data.seek(0)"
   ]
  },
  {
   "cell_type": "code",
   "execution_count": 19,
   "id": "9a76e07f",
   "metadata": {},
   "outputs": [
    {
     "data": {
      "text/html": [
       "<div>\n",
       "<style scoped>\n",
       "    .dataframe tbody tr th:only-of-type {\n",
       "        vertical-align: middle;\n",
       "    }\n",
       "\n",
       "    .dataframe tbody tr th {\n",
       "        vertical-align: top;\n",
       "    }\n",
       "\n",
       "    .dataframe thead th {\n",
       "        text-align: right;\n",
       "    }\n",
       "</style>\n",
       "<table border=\"1\" class=\"dataframe\">\n",
       "  <thead>\n",
       "    <tr style=\"text-align: right;\">\n",
       "      <th></th>\n",
       "      <th>Name</th>\n",
       "      <th>Age</th>\n",
       "      <th>Address</th>\n",
       "      <th>CGPA</th>\n",
       "      <th>Contact</th>\n",
       "    </tr>\n",
       "  </thead>\n",
       "  <tbody>\n",
       "    <tr>\n",
       "      <th>0</th>\n",
       "      <td>Fawad</td>\n",
       "      <td>19</td>\n",
       "      <td>Mardan</td>\n",
       "      <td>3.05</td>\n",
       "      <td>3445755845</td>\n",
       "    </tr>\n",
       "    <tr>\n",
       "      <th>1</th>\n",
       "      <td>Hamza</td>\n",
       "      <td>20</td>\n",
       "      <td>Bajour</td>\n",
       "      <td>3.08</td>\n",
       "      <td>3229596970</td>\n",
       "    </tr>\n",
       "    <tr>\n",
       "      <th>2</th>\n",
       "      <td>Misbah</td>\n",
       "      <td>22</td>\n",
       "      <td>Swat</td>\n",
       "      <td>3.00</td>\n",
       "      <td>3322345894</td>\n",
       "    </tr>\n",
       "    <tr>\n",
       "      <th>3</th>\n",
       "      <td>Abid</td>\n",
       "      <td>23</td>\n",
       "      <td>Kurram</td>\n",
       "      <td>3.50</td>\n",
       "      <td>3215566789</td>\n",
       "    </tr>\n",
       "  </tbody>\n",
       "</table>\n",
       "</div>"
      ],
      "text/plain": [
       "               Name  Age Address  CGPA     Contact\n",
       "0             Fawad   19  Mardan  3.05  3445755845\n",
       "1             Hamza   20  Bajour  3.08  3229596970\n",
       "2            Misbah   22    Swat  3.00  3322345894\n",
       "3              Abid   23  Kurram  3.50  3215566789"
      ]
     },
     "execution_count": 19,
     "metadata": {},
     "output_type": "execute_result"
    }
   ],
   "source": [
    "df2 = pd.DataFrame(df)\n",
    "df2"
   ]
  },
  {
   "cell_type": "code",
   "execution_count": 20,
   "id": "01abc0a3",
   "metadata": {},
   "outputs": [
    {
     "name": "stdout",
     "output_type": "stream",
     "text": [
      "Is the above data : True\n"
     ]
    }
   ],
   "source": [
    "are_identical1 = df1.equals(df2) \n",
    "print(\"Is the above data :\" , are_identical1)"
   ]
  }
 ],
 "metadata": {
  "kernelspec": {
   "display_name": "Python 3",
   "language": "python",
   "name": "python3"
  },
  "language_info": {
   "codemirror_mode": {
    "name": "ipython",
    "version": 3
   },
   "file_extension": ".py",
   "mimetype": "text/x-python",
   "name": "python",
   "nbconvert_exporter": "python",
   "pygments_lexer": "ipython3",
   "version": "3.13.6"
  }
 },
 "nbformat": 4,
 "nbformat_minor": 5
}
