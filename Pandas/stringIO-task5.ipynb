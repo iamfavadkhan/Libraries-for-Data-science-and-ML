{
 "cells": [
  {
   "cell_type": "code",
   "execution_count": null,
   "id": "1e2cc023",
   "metadata": {},
   "outputs": [
    {
     "name": "stderr",
     "output_type": "stream",
     "text": [
      "C:\\Users\\PMLS\\AppData\\Local\\Temp\\ipykernel_51484\\1685008705.py:20: FutureWarning: The 'delim_whitespace' keyword in pd.read_csv is deprecated and will be removed in a future version. Use ``sep='\\s+'`` instead\n",
      "  df = pd.read_csv(csv_data , delim_whitespace=True)\n"
     ]
    },
    {
     "data": {
      "text/html": [
       "<div>\n",
       "<style scoped>\n",
       "    .dataframe tbody tr th:only-of-type {\n",
       "        vertical-align: middle;\n",
       "    }\n",
       "\n",
       "    .dataframe tbody tr th {\n",
       "        vertical-align: top;\n",
       "    }\n",
       "\n",
       "    .dataframe thead th {\n",
       "        text-align: right;\n",
       "    }\n",
       "</style>\n",
       "<table border=\"1\" class=\"dataframe\">\n",
       "  <thead>\n",
       "    <tr style=\"text-align: right;\">\n",
       "      <th></th>\n",
       "      <th>Country</th>\n",
       "      <th>Cases</th>\n",
       "      <th>Deaths</th>\n",
       "    </tr>\n",
       "  </thead>\n",
       "  <tbody>\n",
       "    <tr>\n",
       "      <th>0</th>\n",
       "      <td>USA</td>\n",
       "      <td>1000</td>\n",
       "      <td>50</td>\n",
       "    </tr>\n",
       "    <tr>\n",
       "      <th>1</th>\n",
       "      <td>India</td>\n",
       "      <td>850</td>\n",
       "      <td>20</td>\n",
       "    </tr>\n",
       "    <tr>\n",
       "      <th>2</th>\n",
       "      <td>Brazil</td>\n",
       "      <td>920</td>\n",
       "      <td>35</td>\n",
       "    </tr>\n",
       "    <tr>\n",
       "      <th>3</th>\n",
       "      <td>UK</td>\n",
       "      <td>600</td>\n",
       "      <td>15</td>\n",
       "    </tr>\n",
       "  </tbody>\n",
       "</table>\n",
       "</div>"
      ],
      "text/plain": [
       "  Country  Cases  Deaths\n",
       "0     USA   1000      50\n",
       "1   India    850      20\n",
       "2  Brazil    920      35\n",
       "3      UK    600      15"
      ]
     },
     "execution_count": 20,
     "metadata": {},
     "output_type": "execute_result"
    }
   ],
   "source": [
    "# Task 5: Handle CSV with Irregular Whitespace\n",
    "# Create a CSV string with irregular whitespace\n",
    "# (spaces/tabs) between fields. Use StringIO \n",
    "# to load it into pandas, ensuring whitespace \n",
    "# is properly handled (e.g., using skipinitialspace=True\n",
    "# or delim_whitespace=True), and display the cleaned DataFrame.\n",
    "\n",
    "import pandas as pd\n",
    "from io import StringIO\n",
    "#irregular data with withspaces \n",
    "csv_data = \"\"\"Country   Cases   Deaths\n",
    "USA    1000    50\n",
    "India      850     20\n",
    "Brazil   920      35\n",
    "UK     600    15\n",
    "\"\"\"\n",
    "csv_data = StringIO(csv_data)\n",
    "#here with delim_whitespace method i remove the extra spaces from the data \n",
    "#by default it is False so explicitly i convert it to True to remove\n",
    "df = pd.read_csv(csv_data , delim_whitespace=True)\n",
    "df"
   ]
  }
 ],
 "metadata": {
  "kernelspec": {
   "display_name": "Python 3",
   "language": "python",
   "name": "python3"
  },
  "language_info": {
   "codemirror_mode": {
    "name": "ipython",
    "version": 3
   },
   "file_extension": ".py",
   "mimetype": "text/x-python",
   "name": "python",
   "nbconvert_exporter": "python",
   "pygments_lexer": "ipython3",
   "version": "3.13.6"
  }
 },
 "nbformat": 4,
 "nbformat_minor": 5
}
