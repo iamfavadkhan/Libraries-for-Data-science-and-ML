{
 "cells": [
  {
   "cell_type": "code",
   "execution_count": 26,
   "id": "3f560c09",
   "metadata": {},
   "outputs": [
    {
     "data": {
      "text/html": [
       "<div>\n",
       "<style scoped>\n",
       "    .dataframe tbody tr th:only-of-type {\n",
       "        vertical-align: middle;\n",
       "    }\n",
       "\n",
       "    .dataframe tbody tr th {\n",
       "        vertical-align: top;\n",
       "    }\n",
       "\n",
       "    .dataframe thead th {\n",
       "        text-align: right;\n",
       "    }\n",
       "</style>\n",
       "<table border=\"1\" class=\"dataframe\">\n",
       "  <thead>\n",
       "    <tr style=\"text-align: right;\">\n",
       "      <th></th>\n",
       "      <th>Name</th>\n",
       "      <th>Age</th>\n",
       "      <th>Address</th>\n",
       "      <th>CGPA</th>\n",
       "      <th>Contact</th>\n",
       "    </tr>\n",
       "  </thead>\n",
       "  <tbody>\n",
       "    <tr>\n",
       "      <th>0</th>\n",
       "      <td>Fawad</td>\n",
       "      <td>19</td>\n",
       "      <td>Mardan</td>\n",
       "      <td>3.05</td>\n",
       "      <td>3445755845</td>\n",
       "    </tr>\n",
       "    <tr>\n",
       "      <th>1</th>\n",
       "      <td>Hamza</td>\n",
       "      <td>20</td>\n",
       "      <td>Bajour</td>\n",
       "      <td>3.08</td>\n",
       "      <td>3229596970</td>\n",
       "    </tr>\n",
       "    <tr>\n",
       "      <th>2</th>\n",
       "      <td>Misbah</td>\n",
       "      <td>22</td>\n",
       "      <td>Swat</td>\n",
       "      <td>3.00</td>\n",
       "      <td>3322345894</td>\n",
       "    </tr>\n",
       "    <tr>\n",
       "      <th>3</th>\n",
       "      <td>Abid</td>\n",
       "      <td>23</td>\n",
       "      <td>Kurram</td>\n",
       "      <td>3.50</td>\n",
       "      <td>3215566789</td>\n",
       "    </tr>\n",
       "  </tbody>\n",
       "</table>\n",
       "</div>"
      ],
      "text/plain": [
       "               Name  Age Address  CGPA     Contact\n",
       "0             Fawad   19  Mardan  3.05  3445755845\n",
       "1             Hamza   20  Bajour  3.08  3229596970\n",
       "2            Misbah   22    Swat  3.00  3322345894\n",
       "3              Abid   23  Kurram  3.50  3215566789"
      ]
     },
     "execution_count": 26,
     "metadata": {},
     "output_type": "execute_result"
    }
   ],
   "source": [
    "# Task 1: Read CSV Data from a Multi-line String\n",
    "# Given a multi-line string containing CSV-formatted\n",
    "# data, use StringIO to read it into a pandas DataFrame.\n",
    "# Then display summary statistics (mean, median) for numerical columns.\n",
    "\n",
    "import pandas as pd\n",
    "from io import StringIO\n",
    "\n",
    "data = \"\"\"Name,Age,Address,CGPA,Contact\\n\n",
    "          Fawad,19,Mardan,3.05,3445755845\\n\n",
    "          Hamza,20,Bajour,3.08,3229596970\\n\n",
    "          Misbah,22,Swat,3.00,3322345894\\n\n",
    "          Abid,23,Kurram,3.50,3215566789\\n\"\"\"\n",
    "          \n",
    "csv_buffer = StringIO(data)\n",
    "df = pd.read_csv(csv_buffer)\n",
    "df"
   ]
  },
  {
   "cell_type": "code",
   "execution_count": 27,
   "id": "b4c23711",
   "metadata": {},
   "outputs": [
    {
     "data": {
      "text/html": [
       "<div>\n",
       "<style scoped>\n",
       "    .dataframe tbody tr th:only-of-type {\n",
       "        vertical-align: middle;\n",
       "    }\n",
       "\n",
       "    .dataframe tbody tr th {\n",
       "        vertical-align: top;\n",
       "    }\n",
       "\n",
       "    .dataframe thead th {\n",
       "        text-align: right;\n",
       "    }\n",
       "</style>\n",
       "<table border=\"1\" class=\"dataframe\">\n",
       "  <thead>\n",
       "    <tr style=\"text-align: right;\">\n",
       "      <th></th>\n",
       "      <th>CGPA</th>\n",
       "    </tr>\n",
       "  </thead>\n",
       "  <tbody>\n",
       "    <tr>\n",
       "      <th>count</th>\n",
       "      <td>4.000000</td>\n",
       "    </tr>\n",
       "    <tr>\n",
       "      <th>mean</th>\n",
       "      <td>3.157500</td>\n",
       "    </tr>\n",
       "    <tr>\n",
       "      <th>std</th>\n",
       "      <td>0.230705</td>\n",
       "    </tr>\n",
       "    <tr>\n",
       "      <th>min</th>\n",
       "      <td>3.000000</td>\n",
       "    </tr>\n",
       "    <tr>\n",
       "      <th>25%</th>\n",
       "      <td>3.037500</td>\n",
       "    </tr>\n",
       "    <tr>\n",
       "      <th>50%</th>\n",
       "      <td>3.065000</td>\n",
       "    </tr>\n",
       "    <tr>\n",
       "      <th>75%</th>\n",
       "      <td>3.185000</td>\n",
       "    </tr>\n",
       "    <tr>\n",
       "      <th>max</th>\n",
       "      <td>3.500000</td>\n",
       "    </tr>\n",
       "  </tbody>\n",
       "</table>\n",
       "</div>"
      ],
      "text/plain": [
       "           CGPA\n",
       "count  4.000000\n",
       "mean   3.157500\n",
       "std    0.230705\n",
       "min    3.000000\n",
       "25%    3.037500\n",
       "50%    3.065000\n",
       "75%    3.185000\n",
       "max    3.500000"
      ]
     },
     "execution_count": 27,
     "metadata": {},
     "output_type": "execute_result"
    }
   ],
   "source": [
    "col = ['CGPA']\n",
    "description = df[col].describe()\n",
    "description"
   ]
  },
  {
   "cell_type": "code",
   "execution_count": 28,
   "id": "3b85663f",
   "metadata": {},
   "outputs": [
    {
     "data": {
      "text/html": [
       "<div>\n",
       "<style scoped>\n",
       "    .dataframe tbody tr th:only-of-type {\n",
       "        vertical-align: middle;\n",
       "    }\n",
       "\n",
       "    .dataframe tbody tr th {\n",
       "        vertical-align: top;\n",
       "    }\n",
       "\n",
       "    .dataframe thead th {\n",
       "        text-align: right;\n",
       "    }\n",
       "</style>\n",
       "<table border=\"1\" class=\"dataframe\">\n",
       "  <thead>\n",
       "    <tr style=\"text-align: right;\">\n",
       "      <th></th>\n",
       "      <th>Name</th>\n",
       "      <th>Address</th>\n",
       "      <th>CGPA</th>\n",
       "    </tr>\n",
       "  </thead>\n",
       "  <tbody>\n",
       "    <tr>\n",
       "      <th>0</th>\n",
       "      <td>Fawad</td>\n",
       "      <td>Mardan</td>\n",
       "      <td>3.05</td>\n",
       "    </tr>\n",
       "    <tr>\n",
       "      <th>1</th>\n",
       "      <td>Hamza</td>\n",
       "      <td>Bajour</td>\n",
       "      <td>3.08</td>\n",
       "    </tr>\n",
       "    <tr>\n",
       "      <th>2</th>\n",
       "      <td>Misbah</td>\n",
       "      <td>Swat</td>\n",
       "      <td>3.00</td>\n",
       "    </tr>\n",
       "    <tr>\n",
       "      <th>3</th>\n",
       "      <td>Abid</td>\n",
       "      <td>Kurram</td>\n",
       "      <td>3.50</td>\n",
       "    </tr>\n",
       "  </tbody>\n",
       "</table>\n",
       "</div>"
      ],
      "text/plain": [
       "               Name Address  CGPA\n",
       "0             Fawad  Mardan  3.05\n",
       "1             Hamza  Bajour  3.08\n",
       "2            Misbah    Swat  3.00\n",
       "3              Abid  Kurram  3.50"
      ]
     },
     "execution_count": 28,
     "metadata": {},
     "output_type": "execute_result"
    }
   ],
   "source": [
    "specific_col = ['Name' , 'Address' , 'CGPA']\n",
    "cols = df[specific_col]\n",
    "cols"
   ]
  },
  {
   "cell_type": "code",
   "execution_count": 29,
   "id": "ba8281c8",
   "metadata": {},
   "outputs": [
    {
     "name": "stdout",
     "output_type": "stream",
     "text": [
      "              Name  Age Address  CGPA     Contact\n",
      "0            Fawad   19  Mardan  3.05  3445755845\n",
      "1            Hamza   20  Bajour  3.08  3229596970\n",
      "3             Abid   23  Kurram  3.50  3215566789\n"
     ]
    }
   ],
   "source": [
    "rows = df.iloc[[0,1,3]]\n",
    "print(rows)\n"
   ]
  },
  {
   "cell_type": "code",
   "execution_count": 30,
   "id": "77bc8309",
   "metadata": {},
   "outputs": [
    {
     "data": {
      "text/html": [
       "<div>\n",
       "<style scoped>\n",
       "    .dataframe tbody tr th:only-of-type {\n",
       "        vertical-align: middle;\n",
       "    }\n",
       "\n",
       "    .dataframe tbody tr th {\n",
       "        vertical-align: top;\n",
       "    }\n",
       "\n",
       "    .dataframe thead th {\n",
       "        text-align: right;\n",
       "    }\n",
       "</style>\n",
       "<table border=\"1\" class=\"dataframe\">\n",
       "  <thead>\n",
       "    <tr style=\"text-align: right;\">\n",
       "      <th></th>\n",
       "      <th>Name</th>\n",
       "      <th>Age</th>\n",
       "      <th>Address</th>\n",
       "      <th>CGPA</th>\n",
       "      <th>Contact</th>\n",
       "    </tr>\n",
       "  </thead>\n",
       "  <tbody>\n",
       "    <tr>\n",
       "      <th>2</th>\n",
       "      <td>Misbah</td>\n",
       "      <td>22</td>\n",
       "      <td>Swat</td>\n",
       "      <td>3.0</td>\n",
       "      <td>3322345894</td>\n",
       "    </tr>\n",
       "    <tr>\n",
       "      <th>3</th>\n",
       "      <td>Abid</td>\n",
       "      <td>23</td>\n",
       "      <td>Kurram</td>\n",
       "      <td>3.5</td>\n",
       "      <td>3215566789</td>\n",
       "    </tr>\n",
       "  </tbody>\n",
       "</table>\n",
       "</div>"
      ],
      "text/plain": [
       "               Name  Age Address  CGPA     Contact\n",
       "2            Misbah   22    Swat   3.0  3322345894\n",
       "3              Abid   23  Kurram   3.5  3215566789"
      ]
     },
     "execution_count": 30,
     "metadata": {},
     "output_type": "execute_result"
    }
   ],
   "source": [
    "df = df[df['Age']>20]\n",
    "df"
   ]
  }
 ],
 "metadata": {
  "kernelspec": {
   "display_name": "Python 3",
   "language": "python",
   "name": "python3"
  },
  "language_info": {
   "codemirror_mode": {
    "name": "ipython",
    "version": 3
   },
   "file_extension": ".py",
   "mimetype": "text/x-python",
   "name": "python",
   "nbconvert_exporter": "python",
   "pygments_lexer": "ipython3",
   "version": "3.13.6"
  }
 },
 "nbformat": 4,
 "nbformat_minor": 5
}
